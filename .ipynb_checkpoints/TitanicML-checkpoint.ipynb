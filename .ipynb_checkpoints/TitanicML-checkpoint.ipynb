{
 "cells": [
  {
   "cell_type": "code",
   "execution_count": 1,
   "metadata": {
    "_cell_guid": "b1076dfc-b9ad-4769-8c92-a6c4dae69d19",
    "_uuid": "8f2839f25d086af736a60e9eeb907d3b93b6e0e5",
    "collapsed": true,
    "deletable": true,
    "editable": true
   },
   "outputs": [],
   "source": [
    "import numpy as np # linear algebra\n",
    "import pandas as pd # data processing, CSV file I/O (e.g. pd.read_csv)\n",
    "import seaborn as sns\n",
    "import matplotlib.pyplot as plt\n",
    "\n"
   ]
  },
  {
   "cell_type": "code",
   "execution_count": 2,
   "metadata": {
    "_cell_guid": "79c7e3d0-c299-4dcb-8224-4455121ee9b0",
    "_uuid": "d629ff2d2480ee46fbb7e2d37f6b5fab8052498a",
    "collapsed": true,
    "deletable": true,
    "editable": true
   },
   "outputs": [],
   "source": [
    "train = pd.read_csv(\"train.csv\")\n",
    "test = pd.read_csv(\"test.csv\")"
   ]
  },
  {
   "cell_type": "code",
   "execution_count": 3,
   "metadata": {
    "collapsed": true,
    "deletable": true,
    "editable": true
   },
   "outputs": [],
   "source": [
    "# train.Pclass.isnull().sum() == 0"
   ]
  },
  {
   "cell_type": "code",
   "execution_count": 4,
   "metadata": {
    "collapsed": true,
    "deletable": true,
    "editable": true
   },
   "outputs": [],
   "source": [
    "\n",
    "def clean_name(_train):\n",
    "# _train.Name = _train.Name.str.split(' ').apply(lambda x: x[1])\n",
    "    _train.Name = _train.Name.str.split(' ').apply(lambda x: x[1])\n",
    "    titles = [ 'Rev.', 'y', 'Planke,', 'Impe,', 'Col.', 'Gordon,', 'Major.', 'Mlle.', 'Walle,', 'Shawah,','Pelsmaeker,', 'Don.', 'der', 'Messemaeker,', 'Capt.', 'Melkebeke,','Mulder,', 'Jonkheer.', 'Ms.', 'Billiard,', 'Carlo,', 'Steen,', 'Mme.','Cruyssen,', 'the', 'Velde,', 'Khalil,', 'Palmquist,',\n",
    "       'Dr.', 'Brito,']\n",
    "    _train.Name.replace(titles, 'other', inplace=True)\n",
    "    _train.head(100)\n",
    "    # _train.head()\n",
    "    return _train\n",
    "\n",
    "# sns.barplot(data=_train, x=\"Name\", y=\"Survived\")"
   ]
  },
  {
   "cell_type": "code",
   "execution_count": 5,
   "metadata": {
    "collapsed": true,
    "deletable": true,
    "editable": true
   },
   "outputs": [],
   "source": [
    "# _train = train.copy()\n",
    "\n",
    "# cleaned_name_df = clean_name(_train)\n",
    "# cleaned_name_df.head()\n",
    "# test.Name = test.Name.str.split(' ').apply(lambda x: x[1])\n",
    "# titles = [ 'Rev.', 'y', 'Planke,', 'Impe,', 'Col.', 'Gordon,', 'Major.', 'Mlle.', 'Walle,', 'Shawah,','Pelsmaeker,', 'Don.', 'der', 'Messemaeker,', 'Capt.', 'Melkebeke,','Mulder,', 'Jonkheer.', 'Ms.', 'Billiard,', 'Carlo,', 'Steen,', 'Mme.','Cruyssen,', 'the', 'Velde,', 'Khalil,', 'Palmquist,',\n",
    "#        'Dr.', 'Brito,']\n",
    "# test.Name.replace(titles, 'other', inplace=True)\n",
    "# test.Name.value_counts().index\n",
    "\n",
    "\n",
    "# clean_name(test)\n",
    "# sns.barplot(data=new, x=\"Name\", y=\"Survived\")\n",
    "\n"
   ]
  },
  {
   "cell_type": "code",
   "execution_count": 6,
   "metadata": {
    "collapsed": true,
    "deletable": true,
    "editable": true
   },
   "outputs": [],
   "source": [
    "#clean up sex\n",
    "def clean_sex(train):\n",
    "    train.fillna(\"none\", inplace=True)\n",
    "    return train\n",
    "\n",
    "# sns.barplot(data=_train, x=\"Sex\", y=\"Survived\")"
   ]
  },
  {
   "cell_type": "code",
   "execution_count": 7,
   "metadata": {
    "collapsed": true,
    "deletable": true,
    "editable": true
   },
   "outputs": [],
   "source": [
    "#clean up age\n",
    "def clean_age(train):\n",
    "    train.Age.fillna(train.Age.median(), inplace=True)\n",
    "    # train.Age.isnull().sum()\n",
    "    train.Age = pd.cut(train.Age,7)\n",
    "    return train\n",
    "# sns.barplot(data=train, x=\"Age\", y=\"Survived\")\n"
   ]
  },
  {
   "cell_type": "code",
   "execution_count": 8,
   "metadata": {
    "collapsed": true,
    "deletable": true,
    "editable": true
   },
   "outputs": [],
   "source": [
    "# train.columns\n",
    "# sns.barplot(data=train, x=\"Ticket\", y=\"Survived\")\n",
    "def remove_ticket(train):\n",
    "    train.drop(\"Ticket\", axis=1, inplace=True)\n",
    "    return train\n",
    "# remove_ticket(train)"
   ]
  },
  {
   "cell_type": "code",
   "execution_count": 9,
   "metadata": {
    "collapsed": false,
    "deletable": true,
    "editable": true
   },
   "outputs": [
    {
     "data": {
      "text/plain": [
       "Index(['PassengerId', 'Survived', 'Pclass', 'Name', 'Sex', 'Age', 'SibSp',\n",
       "       'Parch', 'Ticket', 'Fare', 'Cabin', 'Embarked'],\n",
       "      dtype='object')"
      ]
     },
     "execution_count": 9,
     "metadata": {},
     "output_type": "execute_result"
    }
   ],
   "source": [
    "train.columns"
   ]
  },
  {
   "cell_type": "code",
   "execution_count": 10,
   "metadata": {
    "collapsed": true,
    "deletable": true,
    "editable": true
   },
   "outputs": [],
   "source": [
    "def clean_fare(train):\n",
    "    train.Fare.fillna(train.Fare.median(), inplace=True)\n",
    "    train.Fare= pd.cut(train.Fare, 7)\n",
    "    return train"
   ]
  },
  {
   "cell_type": "code",
   "execution_count": 11,
   "metadata": {
    "collapsed": true,
    "deletable": true,
    "editable": true
   },
   "outputs": [],
   "source": [
    "# sns.barplot(data=train, x=\"Fare\", y=\"Survived\")"
   ]
  },
  {
   "cell_type": "code",
   "execution_count": 12,
   "metadata": {
    "collapsed": true,
    "deletable": true,
    "editable": true
   },
   "outputs": [],
   "source": [
    "#clean cabin\n",
    "def clean_cabin(train):\n",
    "    train.Cabin.fillna(\"X\", inplace=True)\n",
    "    train.Cabin =train.Cabin.apply(lambda x: x[0])\n",
    "    return train\n",
    "# sns.barplot(data=train, x=\"Cabin\", y=\"Survived\")\n"
   ]
  },
  {
   "cell_type": "code",
   "execution_count": 13,
   "metadata": {
    "collapsed": false,
    "deletable": true,
    "editable": true
   },
   "outputs": [],
   "source": [
    "#clean embarked\n",
    "# train.Embarked.value_counts()\n",
    "def clean_embarked(train):\n",
    "    train.Embarked.fillna('N', inplace=True)\n",
    "    return train\n",
    "# _test= test.copy()\n",
    "# clean_embarked(_test)\n",
    "# sns.barplot(data=train, x=\"Embarked\", y=\"Survived\")"
   ]
  },
  {
   "cell_type": "code",
   "execution_count": 14,
   "metadata": {
    "collapsed": true,
    "deletable": true,
    "editable": true
   },
   "outputs": [],
   "source": [
    "def clean(_train):\n",
    "    new=clean_embarked(clean_cabin(clean_fare(remove_ticket(clean_age(clean_name(_train))))))\n",
    "    return new\n",
    "# _test = test.copy()\n",
    "# clean(_test)"
   ]
  },
  {
   "cell_type": "code",
   "execution_count": 15,
   "metadata": {
    "collapsed": true,
    "deletable": true,
    "editable": true
   },
   "outputs": [],
   "source": [
    "clean_train=clean(train)\n",
    "clean_test=clean(test)"
   ]
  },
  {
   "cell_type": "code",
   "execution_count": 16,
   "metadata": {
    "collapsed": false,
    "deletable": true,
    "editable": true
   },
   "outputs": [
    {
     "data": {
      "text/html": [
       "<div>\n",
       "<style scoped>\n",
       "    .dataframe tbody tr th:only-of-type {\n",
       "        vertical-align: middle;\n",
       "    }\n",
       "\n",
       "    .dataframe tbody tr th {\n",
       "        vertical-align: top;\n",
       "    }\n",
       "\n",
       "    .dataframe thead th {\n",
       "        text-align: right;\n",
       "    }\n",
       "</style>\n",
       "<table border=\"1\" class=\"dataframe\">\n",
       "  <thead>\n",
       "    <tr style=\"text-align: right;\">\n",
       "      <th></th>\n",
       "      <th>PassengerId</th>\n",
       "      <th>Survived</th>\n",
       "      <th>Pclass</th>\n",
       "      <th>Name</th>\n",
       "      <th>Sex</th>\n",
       "      <th>Age</th>\n",
       "      <th>SibSp</th>\n",
       "      <th>Parch</th>\n",
       "      <th>Fare</th>\n",
       "      <th>Cabin</th>\n",
       "      <th>Embarked</th>\n",
       "    </tr>\n",
       "  </thead>\n",
       "  <tbody>\n",
       "    <tr>\n",
       "      <th>0</th>\n",
       "      <td>1</td>\n",
       "      <td>0</td>\n",
       "      <td>3</td>\n",
       "      <td>Mr.</td>\n",
       "      <td>male</td>\n",
       "      <td>(11.789, 23.157]</td>\n",
       "      <td>1</td>\n",
       "      <td>0</td>\n",
       "      <td>(-0.512, 73.19]</td>\n",
       "      <td>X</td>\n",
       "      <td>S</td>\n",
       "    </tr>\n",
       "  </tbody>\n",
       "</table>\n",
       "</div>"
      ],
      "text/plain": [
       "   PassengerId  Survived  Pclass Name   Sex               Age  SibSp  Parch  \\\n",
       "0            1         0       3  Mr.  male  (11.789, 23.157]      1      0   \n",
       "\n",
       "              Fare Cabin Embarked  \n",
       "0  (-0.512, 73.19]     X        S  "
      ]
     },
     "execution_count": 16,
     "metadata": {},
     "output_type": "execute_result"
    }
   ],
   "source": [
    "clean_train.head(1)"
   ]
  },
  {
   "cell_type": "markdown",
   "metadata": {
    "deletable": true,
    "editable": true
   },
   "source": [
    "# process"
   ]
  },
  {
   "cell_type": "code",
   "execution_count": 17,
   "metadata": {
    "collapsed": true,
    "deletable": true,
    "editable": true
   },
   "outputs": [],
   "source": [
    "from sklearn import preprocessing\n",
    "\n",
    "def label(train, test):\n",
    "    nans=[\"Name\",\"Sex\",\"Age\",\"Fare\",\"Cabin\",\"Embarked\"]\n",
    "    data = pd.concat([train[nans],test[nans]])\n",
    "    for col in nans:\n",
    "        label = preprocessing.LabelEncoder()\n",
    "        label = label.fit(data[col])\n",
    "        train[col] = label.transform(train[col])\n",
    "        test[col] = label.transform(test[col])  \n",
    "    return train, test\n"
   ]
  },
  {
   "cell_type": "code",
   "execution_count": 20,
   "metadata": {
    "collapsed": true,
    "deletable": true,
    "editable": true
   },
   "outputs": [],
   "source": [
    "encoded_train,encoded_test = label(clean_train, clean_test)"
   ]
  },
  {
   "cell_type": "markdown",
   "metadata": {
    "deletable": true,
    "editable": true
   },
   "source": [
    "# Model"
   ]
  },
  {
   "cell_type": "code",
   "execution_count": 23,
   "metadata": {
    "collapsed": false,
    "deletable": true,
    "editable": true
   },
   "outputs": [],
   "source": [
    "# encoded_train.head(10)"
   ]
  },
  {
   "cell_type": "code",
   "execution_count": 24,
   "metadata": {
    "collapsed": true
   },
   "outputs": [],
   "source": [
    "train_x=encoded_train.drop([\"PassengerId\",\"Survived\"], axis=1)\n",
    "train_y=encoded_train.Survived\n",
    "test_x=encoded_test.drop([\"PassengerId\"], axis=1)"
   ]
  },
  {
   "cell_type": "code",
   "execution_count": 27,
   "metadata": {
    "collapsed": false
   },
   "outputs": [],
   "source": [
    "# train_x.head(10)"
   ]
  },
  {
   "cell_type": "code",
   "execution_count": 29,
   "metadata": {
    "collapsed": true
   },
   "outputs": [],
   "source": [
    "from sklearn.ensemble import RandomForestClassifier\n",
    "from sklearn.model_selection import train_test_split\n",
    "\n",
    "train_x_first, train_x_second, train_y_first, train_y_second =train_test_split(train_x, train_y, test_size=0.33, random_state=42)\n"
   ]
  },
  {
   "cell_type": "code",
   "execution_count": 32,
   "metadata": {
    "collapsed": false
   },
   "outputs": [
    {
     "name": "stderr",
     "output_type": "stream",
     "text": [
      "/home/simret/.local/share/canopy/edm/envs/User/lib/python3.5/site-packages/sklearn/ensemble/forest.py:246: FutureWarning: The default value of n_estimators will change from 10 in version 0.20 to 100 in 0.22.\n",
      "  \"10 in version 0.20 to 100 in 0.22.\", FutureWarning)\n"
     ]
    },
    {
     "data": {
      "text/plain": [
       "0.8135593220338984"
      ]
     },
     "execution_count": 32,
     "metadata": {},
     "output_type": "execute_result"
    }
   ],
   "source": [
    "rf = RandomForestClassifier()\n",
    "rf.fit(train_x_first, train_y_first)\n",
    "\n",
    "rf.score(train_x_second,train_y_second)"
   ]
  },
  {
   "cell_type": "code",
   "execution_count": 39,
   "metadata": {
    "collapsed": false
   },
   "outputs": [],
   "source": [
    "prediction = rf.predict(test_x)\n",
    "result = encoded_test.PassengerId\n",
    "test[\"Survived\"] = prediction\n",
    "result = test[[\"PassengerId\",\"Survived\"]]\n",
    "result.to_csv(\"result.csv\", index=False)"
   ]
  }
 ],
 "metadata": {
  "kernelspec": {
   "display_name": "Python 3",
   "language": "python",
   "name": "python3"
  },
  "language_info": {
   "codemirror_mode": {
    "name": "ipython",
    "version": 3
   },
   "file_extension": ".py",
   "mimetype": "text/x-python",
   "name": "python",
   "nbconvert_exporter": "python",
   "pygments_lexer": "ipython3",
   "version": "3.5.2"
  }
 },
 "nbformat": 4,
 "nbformat_minor": 4
}
